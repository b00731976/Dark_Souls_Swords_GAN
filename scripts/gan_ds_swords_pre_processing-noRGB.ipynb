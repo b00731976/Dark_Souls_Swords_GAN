{
 "cells": [
  {
   "cell_type": "markdown",
   "metadata": {},
   "source": [
    "### Libraries"
   ]
  },
  {
   "cell_type": "code",
   "execution_count": 1,
   "metadata": {
    "scrolled": true
   },
   "outputs": [],
   "source": [
    "from matplotlib import image\n",
    "from matplotlib import pyplot\n",
    "import os\n",
    "from os import listdir\n",
    "import numpy as np\n",
    "from tqdm import tqdm\n",
    "from skimage.transform import resize"
   ]
  },
  {
   "cell_type": "markdown",
   "metadata": {},
   "source": [
    "### Reading"
   ]
  },
  {
   "cell_type": "markdown",
   "metadata": {},
   "source": [
    "os.path.expanduser('~')"
   ]
  },
  {
   "cell_type": "code",
   "execution_count": 12,
   "metadata": {},
   "outputs": [],
   "source": [
    "dr_ds = 'D:/Documents/Python and Data Science/Neural Style Transfer Perso Project/images_swords/file/Dark-Souls/'\n",
    "dr_ds2 = 'D:/Documents/Python and Data Science/Neural Style Transfer Perso Project/images_swords/file/Dark-Souls-2/'\n",
    "dr_ds3 = 'D:/Documents/Python and Data Science/Neural Style Transfer Perso Project/images_swords/file/Dark-Souls-3/'\n",
    "dr_des = 'D:/Documents/Python and Data Science/Neural Style Transfer Perso Project/images_swords/file/Demons-Souls/'\n",
    "image_link = 'D:/Documents/Python and Data Science/Neural Style Transfer Perso Project/images_swords/file/Dark-Souls/Abyss%20Greatsword.png'"
   ]
  },
  {
   "cell_type": "markdown",
   "metadata": {},
   "source": [
    "### Preprocessing"
   ]
  },
  {
   "cell_type": "markdown",
   "metadata": {},
   "source": [
    "##### B&W and Low Res"
   ]
  },
  {
   "cell_type": "code",
   "execution_count": 13,
   "metadata": {
    "scrolled": false
   },
   "outputs": [],
   "source": [
    "# load all images in a directory\n",
    "X_train_preprocess_BW = list()\n",
    "\n",
    "arr = np.array(list)\n",
    "for filename in listdir(dr_ds):\n",
    "    try:\n",
    "        col = Image.open(dr_ds + filename)\n",
    "        gray = col.convert('L')\n",
    "        # Let numpy do the heavy lifting for converting pixels to pure black or white\n",
    "        bw = np.asarray(gray).copy()\n",
    "        # Pixel range is 0...255, 256/2 = 128\n",
    "        bw[bw < 128] = 0    # Black\n",
    "        bw[bw >= 128] = 255 # White\n",
    "        # image resize\n",
    "        img_data = resize(bw, (28, 28))\n",
    "        # store loaded image\n",
    "        X_train_preprocess_BW.append(img_data)\n",
    "        print('> loaded %s %s' % (filename, img_data.shape))\n",
    "    except:\n",
    "        pass\n",
    "\n",
    "for filename in listdir(dr_ds2):\n",
    "    try:\n",
    "        col = Image.open(dr_ds2 + filename)\n",
    "        gray = col.convert('L')\n",
    "        # Let numpy do the heavy lifting for converting pixels to pure black or white\n",
    "        bw = np.asarray(gray).copy()\n",
    "        # Pixel range is 0...255, 256/2 = 128\n",
    "        bw[bw < 128] = 0    # Black\n",
    "        bw[bw >= 128] = 255 # White\n",
    "        # image resize\n",
    "        img_data = resize(bw, (28, 28))\n",
    "        # store loaded image\n",
    "        X_train_preprocess_BW.append(img_data)\n",
    "        print('> loaded %s %s' % (filename, img_data.shape))\n",
    "    except:\n",
    "        pass\n",
    "\n",
    "for filename in listdir(dr_ds3):\n",
    "    try:\n",
    "        col = Image.open(dr_ds3 + filename)\n",
    "        gray = col.convert('L')\n",
    "        # Let numpy do the heavy lifting for converting pixels to pure black or white\n",
    "        bw = np.asarray(gray).copy()\n",
    "        # Pixel range is 0...255, 256/2 = 128\n",
    "        bw[bw < 128] = 0    # Black\n",
    "        bw[bw >= 128] = 255 # White\n",
    "        # image resize\n",
    "        img_data = resize(bw, (28, 28))\n",
    "        # store loaded image\n",
    "        X_train_preprocess_BW.append(img_data)\n",
    "        print('> loaded %s %s' % (filename, img_data.shape))\n",
    "    except:\n",
    "        pass\n",
    "\n",
    "for filename in listdir(dr_des):\n",
    "    try:\n",
    "        col = Image.open(dr_des + filename)\n",
    "        gray = col.convert('L')\n",
    "        # Let numpy do the heavy lifting for converting pixels to pure black or white\n",
    "        bw = np.asarray(gray).copy()\n",
    "        # Pixel range is 0...255, 256/2 = 128\n",
    "        bw[bw < 128] = 0    # Black\n",
    "        bw[bw >= 128] = 255 # White\n",
    "        # image resize\n",
    "        img_data = resize(bw, (28, 28))\n",
    "        # store loaded image\n",
    "        X_train_preprocess_BW.append(img_data)\n",
    "        print('> loaded %s %s' % (filename, img_data.shape))\n",
    "    except:\n",
    "        pass"
   ]
  },
  {
   "cell_type": "code",
   "execution_count": 196,
   "metadata": {},
   "outputs": [
    {
     "data": {
      "text/plain": [
       "numpy.ndarray"
      ]
     },
     "execution_count": 196,
     "metadata": {},
     "output_type": "execute_result"
    }
   ],
   "source": [
    "type(X_train_preprocess_BW[0])"
   ]
  },
  {
   "cell_type": "code",
   "execution_count": 197,
   "metadata": {},
   "outputs": [],
   "source": [
    "# converting list to array\n",
    "X_train_preprocess_BW = np.asarray(X_train_preprocess_BW)"
   ]
  },
  {
   "cell_type": "code",
   "execution_count": 198,
   "metadata": {},
   "outputs": [
    {
     "data": {
      "text/plain": [
       "(276, 28, 28)"
      ]
     },
     "execution_count": 198,
     "metadata": {},
     "output_type": "execute_result"
    }
   ],
   "source": [
    "X_train_preprocess_BW.shape"
   ]
  },
  {
   "cell_type": "code",
   "execution_count": 199,
   "metadata": {},
   "outputs": [],
   "source": [
    "X_train_noRGB = X_train_preprocess_BW.reshape(X_train_preprocess_BW.shape[0], 28, 28, 1).astype('float32')\n",
    "X_train_noRGB = (X_train_preprocess_BW - 127.5) / 127.5  # Normalize the images to [-1, 1]"
   ]
  },
  {
   "cell_type": "code",
   "execution_count": 203,
   "metadata": {},
   "outputs": [
    {
     "data": {
      "text/plain": [
       "(276, 28, 28)"
      ]
     },
     "execution_count": 203,
     "metadata": {},
     "output_type": "execute_result"
    }
   ],
   "source": [
    "X_train_noRGB.shape"
   ]
  },
  {
   "cell_type": "code",
   "execution_count": 213,
   "metadata": {},
   "outputs": [],
   "source": [
    "arr = X_train_noRGB\n",
    "# reshaping the array from 3D matrice to 2D matrice for saving \n",
    "arr_reshaped = arr.reshape(arr.shape[0], -1)\n",
    "# saving reshaped array to file (can't save a 3D array, only 2D or 1D)\n",
    "np.savetxt(\"X_train_noRGB_2D.txt\", arr_reshaped)"
   ]
  },
  {
   "cell_type": "code",
   "execution_count": 214,
   "metadata": {},
   "outputs": [],
   "source": [
    "loaded_arr = np.loadtxt(\"/home/phos/Documents/Python and Data Science/Neural Style Transfer Perso Project/X_train_noRGB_2D.txt\")"
   ]
  },
  {
   "cell_type": "code",
   "execution_count": 185,
   "metadata": {
    "scrolled": true
   },
   "outputs": [
    {
     "name": "stdout",
     "output_type": "stream",
     "text": [
      "Stored 'X_train_noRGB' (ndarray)\n"
     ]
    }
   ],
   "source": [
    "%store X_train_noRGB #if needed"
   ]
  }
 ],
 "metadata": {
  "kernelspec": {
   "display_name": "Python 3",
   "language": "python",
   "name": "python3"
  },
  "language_info": {
   "codemirror_mode": {
    "name": "ipython",
    "version": 3
   },
   "file_extension": ".py",
   "mimetype": "text/x-python",
   "name": "python",
   "nbconvert_exporter": "python",
   "pygments_lexer": "ipython3",
   "version": "3.7.6"
  }
 },
 "nbformat": 4,
 "nbformat_minor": 4
}
