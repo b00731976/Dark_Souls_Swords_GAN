{
 "cells": [
  {
   "cell_type": "markdown",
   "metadata": {},
   "source": [
    "### 1- Libraries"
   ]
  },
  {
   "cell_type": "code",
   "execution_count": 1,
   "metadata": {},
   "outputs": [],
   "source": [
    "from bs4 import BeautifulSoup\n",
    "import requests\n",
    "import urllib\n",
    "from tqdm import tqdm"
   ]
  },
  {
   "cell_type": "markdown",
   "metadata": {},
   "source": [
    "### 2- Preparing the links"
   ]
  },
  {
   "cell_type": "markdown",
   "metadata": {},
   "source": [
    "These links might seem complicated to manually input but are actually easily done via Sublime Text"
   ]
  },
  {
   "cell_type": "code",
   "execution_count": 2,
   "metadata": {},
   "outputs": [],
   "source": [
    "url_ds = {\n",
    "\"daggers\":\"https://darksouls.wiki.fextralife.com/Daggers\",\n",
    "\"straight_swords\":\"https://darksouls.wiki.fextralife.com/Straight+Swords\",\n",
    "\"great_swords\":\"https://darksouls.wiki.fextralife.com/Greatswords\",\n",
    "\"ultra_great_swords\":\"https://darksouls.wiki.fextralife.com/Ultra+Greatswords\",\n",
    "\"curved_swords\":\"https://darksouls.wiki.fextralife.com/Curved+Swords\",\n",
    "\"katanas\":\"https://darksouls.wiki.fextralife.com/Katanas\",\n",
    "\"curved_great_swords\":\"https://darksouls.wiki.fextralife.com/Curved+Greatswords\",\n",
    "\"piercing_swords\":\"https://darksouls.wiki.fextralife.com/Piercing+Swords\",\n",
    "}\n",
    "\n",
    "url_ds2 = {\n",
    "\"daggers\":\"https://darksouls2.wiki.fextralife.com/Daggers\",\n",
    "\"straight_swords\":\"https://darksouls2.wiki.fextralife.com/Straight+Swords\",\n",
    "\"great_swords\":\"https://darksouls2.wiki.fextralife.com/Greatswords\",\n",
    "\"ultra_great_swords\":\"https://darksouls2.wiki.fextralife.com/Ultra+Greatswords\",\n",
    "\"curved_swords\":\"https://darksouls2.wiki.fextralife.com/Curved+Swords\",\n",
    "\"katanas\":\"https://darksouls2.wiki.fextralife.com/Katanas\",\n",
    "\"curved_great_swords\":\"https://darksouls2.wiki.fextralife.com/Curved+Greatswords\",\n",
    "\"piercing_swords\":\"https://darksouls2.wiki.fextralife.com/Piercing+Swords\",\n",
    "}\n",
    "\n",
    "url_ds3 = {\n",
    "\"daggers\":\"https://darksouls3.wiki.fextralife.com/Daggers\",\n",
    "\"straight_swords\":\"https://darksouls3.wiki.fextralife.com/Straight+Swords\",\n",
    "\"great_swords\":\"https://darksouls3.wiki.fextralife.com/Greatswords\",\n",
    "\"ultra_great_swords\":\"https://darksouls3.wiki.fextralife.com/Ultra+Greatswords\",\n",
    "\"curved_swords\":\"https://darksouls3.wiki.fextralife.com/Curved+Swords\",\n",
    "\"katanas\":\"https://darksouls3.wiki.fextralife.com/Katanas\",\n",
    "\"curved_great_swords\":\"https://darksouls3.wiki.fextralife.com/Curved+Greatswords\",\n",
    "\"piercing_swords\":\"https://darksouls3.wiki.fextralife.com/Piercing+Swords\"\n",
    "}\n",
    "\n",
    "url_des = {\n",
    "\"daggers\":\"https://demonssouls.wiki.fextralife.com/Daggers\",\n",
    "\"straight_swords\":\"https://demonssouls.wiki.fextralife.com/Straight+Swords\",\n",
    "\"great_swords\":\"https://demonssouls.wiki.fextralife.com/Greatswords\",\n",
    "\"ultra_great_swords\":\"https://demonssouls.wiki.fextralife.com/Very+Large+Swords\",\n",
    "\"curved_swords\":\"https://demonssouls.wiki.fextralife.com/Curved+Swords\",\n",
    "\"katanas\":\"https://demonssouls.wiki.fextralife.com/Katanas\",\n",
    "\"piercing_swords\":\"https://demonssouls.wiki.fextralife.com/Thrusting+Swords\"\n",
    "}\n",
    "\n",
    "url_ds_part1 = 'https://darksouls.wiki.fextralife.com'\n",
    "url_ds2_part1 = 'https://darksouls2.wiki.fextralife.com'\n",
    "url_ds3_part1 = 'https://darksouls3.wiki.fextralife.com'\n",
    "url_des_part1 = 'https://demonssouls.wiki.fextralife.com'"
   ]
  },
  {
   "cell_type": "markdown",
   "metadata": {},
   "source": [
    "### 3- Scraping"
   ]
  },
  {
   "cell_type": "markdown",
   "metadata": {},
   "source": [
    "###### - An old unoptimised script. It works though\n",
    "###### - The Demon Souls scraper is potentially outdated due to website changes"
   ]
  },
  {
   "cell_type": "code",
   "execution_count": 10,
   "metadata": {},
   "outputs": [
    {
     "name": "stderr",
     "output_type": "stream",
     "text": [
      "100%|████████████████████████████████████████████████████████████████████████████████████| 8/8 [00:12<00:00,  1.60s/it]\n",
      "100%|████████████████████████████████████████████████████████████████████████████████████| 8/8 [00:13<00:00,  1.74s/it]\n",
      "100%|████████████████████████████████████████████████████████████████████████████████████| 8/8 [00:31<00:00,  3.98s/it]\n",
      "100%|████████████████████████████████████████████████████████████████████████████████████| 7/7 [00:02<00:00,  2.57it/s]\n"
     ]
    }
   ],
   "source": [
    "for url in tqdm(url_ds.values()):\n",
    "\tcontent = requests.get(url).content\n",
    "\tsoup = BeautifulSoup(content,'lxml') \n",
    "\timage_tags = soup.findAll('img')\n",
    "\t[urllib.request.urlretrieve(url_ds_part1+str(image_tag.get('src')), str('images_swords')+str(image_tag.get('src'))) for image_tag in image_tags if (('icon' in str(image_tag.get('src'))) == False)\n",
    "\t                                                      \t\t  \t\t\t\t \t\t\t\t\t\t\t\t\t\t\t\t\t\t\t\t\t & (('forum' in str(image_tag.get('src'))) == False)\n",
    "\t                                                      \t\t  \t\t\t\t \t\t\t\t\t\t\t\t\t\t\t\t\t\t\t\t\t & (('None' in str(image_tag.get('src'))) == False)\n",
    "\t                                                       \t\t  \t\t\t\t \t\t\t\t\t\t\t\t\t\t\t\t\t\t\t\t\t & (('avatar' in str(image_tag.get('src'))) == False)\n",
    "                                                                  \t\t\t\t \t\t\t\t\t\t\t\t\t\t\t\t\t\t\t\t\t & (('Icon' in str(image_tag.get('src'))) == False)  \n",
    "                                                                  \t\t\t\t \t\t\t\t\t\t\t\t\t\t\t\t\t\t\t\t\t & (('Damage' in str(image_tag.get('src'))) == False)  \n",
    "                                                                  \t\t\t\t \t\t\t\t\t\t\t\t\t\t\t\t\t\t\t\t\t & (('Resist' in str(image_tag.get('src'))) == False)\n",
    "                                                                  \t\t\t\t \t\t\t\t\t\t\t\t\t\t\t\t\t\t\t\t\t & (('STR' in str(image_tag.get('src'))) == False)  \n",
    "                                                                  \t\t\t\t \t\t\t\t\t\t\t\t\t\t\t\t\t\t\t\t\t & (('DEX' in str(image_tag.get('src'))) == False)  \n",
    "                                                                  \t\t\t\t \t\t\t\t\t\t\t\t\t\t\t\t\t\t\t\t\t & (('INT' in str(image_tag.get('src'))) == False)  \n",
    "                                                                  \t\t\t\t \t\t\t\t\t\t\t\t\t\t\t\t\t\t\t\t\t & (('FTH' in str(image_tag.get('src'))) == False)   \n",
    "                                                                  \t\t\t\t \t\t\t\t\t\t\t\t\t\t\t\t\t\t\t\t\t & (('attack' in str(image_tag.get('src'))) == False)    \n",
    "                                                                  \t\t\t\t \t\t\t\t\t\t\t\t\t\t\t\t\t\t\t\t\t & (('normal' in str(image_tag.get('src'))) == False)    \n",
    "\t]\n",
    "\n",
    "for url in tqdm(url_ds2.values()):\n",
    "\tcontent = requests.get(url).content\n",
    "\tsoup = BeautifulSoup(content,'lxml') \n",
    "\timage_tags = soup.findAll('img')\n",
    "\t[urllib.request.urlretrieve(url_ds2_part1+str(image_tag.get('src')), str('images_swords')+str(image_tag.get('src'))) for image_tag in image_tags if (('icon' in str(image_tag.get('src'))) == False)\n",
    "\t                                                      \t\t  \t\t\t\t \t\t\t\t\t\t\t\t\t\t\t\t\t\t\t\t\t & (('forum' in str(image_tag.get('src'))) == False)\n",
    "\t                                                      \t\t  \t\t\t\t \t\t\t\t\t\t\t\t\t\t\t\t\t\t\t\t\t & (('None' in str(image_tag.get('src'))) == False)\n",
    "\t                                                       \t\t  \t\t\t\t \t\t\t\t\t\t\t\t\t\t\t\t\t\t\t\t\t & (('avatar' in str(image_tag.get('src'))) == False)\n",
    "                                                                  \t\t\t\t \t\t\t\t\t\t\t\t\t\t\t\t\t\t\t\t\t & (('Icon' in str(image_tag.get('src'))) == False)  \n",
    "                                                                  \t\t\t\t \t\t\t\t\t\t\t\t\t\t\t\t\t\t\t\t\t & (('Damage' in str(image_tag.get('src'))) == False)  \n",
    "                                                                  \t\t\t\t \t\t\t\t\t\t\t\t\t\t\t\t\t\t\t\t\t & (('Resist' in str(image_tag.get('src'))) == False)\n",
    "                                                                  \t\t\t\t \t\t\t\t\t\t\t\t\t\t\t\t\t\t\t\t\t & (('STR' in str(image_tag.get('src'))) == False)  \n",
    "                                                                  \t\t\t\t \t\t\t\t\t\t\t\t\t\t\t\t\t\t\t\t\t & (('DEX' in str(image_tag.get('src'))) == False)  \n",
    "                                                                  \t\t\t\t \t\t\t\t\t\t\t\t\t\t\t\t\t\t\t\t\t & (('INT' in str(image_tag.get('src'))) == False)  \n",
    "                                                                  \t\t\t\t \t\t\t\t\t\t\t\t\t\t\t\t\t\t\t\t\t & (('FTH' in str(image_tag.get('src'))) == False)   \n",
    "                                                                  \t\t\t\t \t\t\t\t\t\t\t\t\t\t\t\t\t\t\t\t\t & (('attack' in str(image_tag.get('src'))) == False)    \n",
    "                                                                  \t\t\t\t \t\t\t\t\t\t\t\t\t\t\t\t\t\t\t\t\t & (('normal' in str(image_tag.get('src'))) == False)    \n",
    "\t]\n",
    "\n",
    "for url in tqdm(url_ds3.values()):\n",
    "\tcontent = requests.get(url).content\n",
    "\tsoup = BeautifulSoup(content,'lxml') \n",
    "\timage_tags = soup.findAll('img')\n",
    "\ttry:\n",
    "\t\t[urllib.request.urlretrieve(url_ds3_part1+str(image_tag.get('src')), str('images_swords')+str(image_tag.get('src'))) for image_tag in image_tags if (('forum' in str(image_tag.get('src'))) == False)\n",
    "\t\t                                                      \t\t  \t\t\t\t \t\t\t\t\t\t\t\t\t\t\t\t\t\t\t\t\t  & (('None' in str(image_tag.get('src'))) == False)\n",
    "\t\t                                                       \t\t  \t\t\t\t \t\t\t\t\t\t\t\t\t\t\t\t\t\t\t\t\t  & (('avatar' in str(image_tag.get('src'))) == False)\n",
    "    \t                                                              \t\t\t\t \t\t\t\t\t\t\t\t\t\t\t\t\t\t\t\t\t  & (('Damage' in str(image_tag.get('src'))) == False)  \n",
    "    \t                                                              \t\t\t\t \t\t\t\t\t\t\t\t\t\t\t\t\t\t\t\t\t  & (('Resist' in str(image_tag.get('src'))) == False)\n",
    "    \t                                                              \t\t\t\t \t\t\t\t\t\t\t\t\t\t\t\t\t\t\t\t\t  & (('STR' in str(image_tag.get('src'))) == False)  \n",
    "    \t                                                              \t\t\t\t \t\t\t\t\t\t\t\t\t\t\t\t\t\t\t\t\t  & (('DEX' in str(image_tag.get('src'))) == False)  \n",
    "    \t                                                              \t\t\t\t \t\t\t\t\t\t\t\t\t\t\t\t\t\t\t\t\t  & (('INT' in str(image_tag.get('src'))) == False)  \n",
    "    \t                                                              \t\t\t\t \t\t\t\t\t\t\t\t\t\t\t\t\t\t\t\t\t  & (('FTH' in str(image_tag.get('src'))) == False)   \n",
    "    \t                                                              \t\t\t\t \t\t\t\t\t\t\t\t\t\t\t\t\t\t\t\t\t  & (('attack' in str(image_tag.get('src'))) == False)    \n",
    "    \t                                                              \t\t\t\t \t\t\t\t\t\t\t\t\t\t\t\t\t\t\t\t\t  & (('normal' in str(image_tag.get('src'))) == False)    \n",
    "\t\t] \n",
    "\texcept:\n",
    "\t\tpass\n",
    "    \n",
    "for url in tqdm(url_des.values()):\n",
    "\tcontent = requests.get(url).content\n",
    "\tsoup = BeautifulSoup(content,'lxml') \n",
    "\timage_tags = soup.findAll('img')\n",
    "\ttry:\n",
    "\t\t[urllib.request.urlretrieve(url_des_part1+str(image_tag.get('src')), str('images_swords')+str(image_tag.get('src'))) for image_tag in image_tags if (('forum' in str(image_tag.get('src'))) == False)\n",
    "\t\t                                                      \t\t  \t\t\t\t \t\t\t\t\t\t\t\t\t\t\t\t\t\t\t\t\t  & (('None' in str(image_tag.get('src'))) == False)\n",
    "\t\t                                                       \t\t  \t\t\t\t \t\t\t\t\t\t\t\t\t\t\t\t\t\t\t\t\t  & (('avatar' in str(image_tag.get('src'))) == False)\n",
    "    \t                                                              \t\t\t\t \t\t\t\t\t\t\t\t\t\t\t\t\t\t\t\t\t  & (('Damage' in str(image_tag.get('src'))) == False)  \n",
    "    \t                                                              \t\t\t\t \t\t\t\t\t\t\t\t\t\t\t\t\t\t\t\t\t  & (('Resist' in str(image_tag.get('src'))) == False)\n",
    "    \t                                                              \t\t\t\t \t\t\t\t\t\t\t\t\t\t\t\t\t\t\t\t\t  & (('STR' in str(image_tag.get('src'))) == False)  \n",
    "    \t                                                              \t\t\t\t \t\t\t\t\t\t\t\t\t\t\t\t\t\t\t\t\t  & (('DEX' in str(image_tag.get('src'))) == False)  \n",
    "    \t                                                              \t\t\t\t \t\t\t\t\t\t\t\t\t\t\t\t\t\t\t\t\t  & (('INT' in str(image_tag.get('src'))) == False)  \n",
    "    \t                                                              \t\t\t\t \t\t\t\t\t\t\t\t\t\t\t\t\t\t\t\t\t  & (('FTH' in str(image_tag.get('src'))) == False)   \n",
    "    \t                                                              \t\t\t\t \t\t\t\t\t\t\t\t\t\t\t\t\t\t\t\t\t  & (('attack' in str(image_tag.get('src'))) == False)    \n",
    "    \t                                                              \t\t\t\t \t\t\t\t\t\t\t\t\t\t\t\t\t\t\t\t\t  & (('normal' in str(image_tag.get('src'))) == False)    \n",
    "\t\t] \n",
    "\texcept:\n",
    "\t\tpass"
   ]
  }
 ],
 "metadata": {
  "kernelspec": {
   "display_name": "Python 3",
   "language": "python",
   "name": "python3"
  },
  "language_info": {
   "codemirror_mode": {
    "name": "ipython",
    "version": 3
   },
   "file_extension": ".py",
   "mimetype": "text/x-python",
   "name": "python",
   "nbconvert_exporter": "python",
   "pygments_lexer": "ipython3",
   "version": "3.7.6"
  }
 },
 "nbformat": 4,
 "nbformat_minor": 4
}
